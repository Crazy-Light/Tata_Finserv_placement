{
 "cells": [
  {
   "cell_type": "code",
   "execution_count": 8,
   "metadata": {},
   "outputs": [
    {
     "name": "stdout",
     "output_type": "stream",
     "text": [
      "<Response [200]>\n",
      "b'Your details have been submitted successfully'\n"
     ]
    }
   ],
   "source": [
    "\n",
    "import requests\n",
    "import json\n",
    "\n",
    "endpoint = \"https://prod-24.centralindia.logic.azure.com/workflows/78d6df0ed1384ee0b7d04918f1a32b85/triggers/request/paths/invoke?api-version=2016-10-01&sp=%2Ftriggers%2Frequest%2Frun&sv=1.0&sig=i6gXuS7-5_fFVf-0u8M4UfymINDULCMifsscfN5cPKM\"\n",
    "\n",
    "ID = 18070123005\n",
    "headers = {\n",
    "    \"Name\": \"Abhinav Rajput\",\n",
    "    \"Email\": \"abhinav.rajput.btech2018@sitpune.edu.in\",\n",
    "    \"College\": \"Symbiosis Institute of Technology\",\n",
    "    \"StudentID\": \"18070123005\",\n",
    "    \"FileName\": \"code.ipynb\",\n",
    "    \"Password\": \"YWJoaW5hdi5yYWpwdXQuYnRlY2gyMDE4QHNpdHB1bmUuZWR1Lmlu\",\n",
    "}\n",
    "\n",
    "with open(\"code.ipynb\",'rb') as file:\n",
    "    payload = file.read()\n",
    "\n",
    "try:\n",
    "    response = requests.put(endpoint, data=payload, headers=headers)\n",
    "    print(response)\n",
    "    print(response.content)\n",
    "except requests.exceptions.ConnectionError:\n",
    "    print(\"Sorry.\")"
   ]
  },
  {
   "cell_type": "code",
   "execution_count": null,
   "metadata": {},
   "outputs": [],
   "source": []
  }
 ],
 "metadata": {
  "kernelspec": {
   "display_name": "Python 3",
   "language": "python",
   "name": "python3"
  },
  "language_info": {
   "codemirror_mode": {
    "name": "ipython",
    "version": 3
   },
   "file_extension": ".py",
   "mimetype": "text/x-python",
   "name": "python",
   "nbconvert_exporter": "python",
   "pygments_lexer": "ipython3",
   "version": "3.8.3"
  }
 },
 "nbformat": 4,
 "nbformat_minor": 4
}
